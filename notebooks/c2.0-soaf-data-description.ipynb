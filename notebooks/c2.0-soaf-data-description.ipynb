{
 "cells": [
  {
   "cell_type": "markdown",
   "metadata": {},
   "source": [
    "# Planejamento da solução"
   ]
  },
  {
   "cell_type": "markdown",
   "metadata": {},
   "source": [
    "-- Objetivo do problema: Previsão do primeiro destino que um novo usuário irá escolher\n",
    "\n",
    "- Porque?\n",
    "    - Qual tipo de modelo de negócio do Airbnb?\n",
    "        - Marketplace ( Conectar pessoas que oferecem acomodacao, com pessoas que estao procurando acomodacao)\n",
    "        - Oferta ( pessoas oferecendo acomodacao )\n",
    "            - Tamanho do portfólio.\n",
    "            - Diversidade/Densidade de Portfólio.\n",
    "            - Preco Medio\n",
    "            \n",
    "        - Demanda ( pessoas procurando acomodacao )\n",
    "            - Numero de Usuários\n",
    "            - LTV ( Lifetime Value )\n",
    "            - CAC ( Client Acquisition Cost )\n",
    "            \n",
    "           Gross Revenue = ( Fee*Numero cliente ) - CAC \n",
    "\n",
    "#\n",
    "-- Proposta da Solucao\n",
    "- Modelo de Predivao do primeiro destino de um novo usario.\n",
    "- 1.0. Predicoes e salva em tabela do banco de dados. \n",
    "- 2.0. API \n",
    "    - Input: usuario e suas caracteristicas\n",
    "    - Output: usuario e suas caracteristicas com a **predicao do destino**\n",
    "        \n",
    "--- Esperado 16 ciclos"
   ]
  },
  {
   "cell_type": "markdown",
   "metadata": {},
   "source": [
    "# 0.0 Imports"
   ]
  },
  {
   "cell_type": "code",
   "execution_count": 3,
   "metadata": {},
   "outputs": [],
   "source": [
    "import random\n",
    "import pickle\n",
    "import numpy    as np\n",
    "import pandas   as pd\n",
    "import seaborn  as sns\n",
    "\n",
    "from matplotlib import pyplot as plt\n",
    "from pycorrcat  import pycorrcat\n",
    "\n",
    "from sklearn    import model_selection as ms\n",
    "from sklearn    import preprocessing   as pp\n",
    "from sklearn    import metrics         as me\n",
    "from scikitplot import metrics      as mt\n",
    "\n",
    "from keras      import models as ml\n",
    "from keras      import layers as la"
   ]
  },
  {
   "cell_type": "markdown",
   "metadata": {},
   "source": [
    "## 0.1 Helper Functions"
   ]
  },
  {
   "cell_type": "code",
   "execution_count": 4,
   "metadata": {},
   "outputs": [],
   "source": [
    "def jupyter_settings():\n",
    "    %matplotlib inline\n",
    "    plt.style.use('bmh')\n",
    "    plt.rcParams['figure.figsize'] = [20, 8]\n",
    "    plt.rcParams['font.size'] = 24\n",
    "    plt.rcParams['figure.dpi'] = 100\n",
    "    \n",
    "    pd.set_option('display.float_format', lambda x: '%.3f' % x)\n",
    "    \n",
    "    # ignora future warnings\n",
    "    #warnings.filterwarnings('ignore')\n",
    "    \n",
    "    sns.set()\n",
    "    "
   ]
  },
  {
   "cell_type": "markdown",
   "metadata": {},
   "source": [
    "## 0.2 Load Data"
   ]
  },
  {
   "cell_type": "code",
   "execution_count": 5,
   "metadata": {},
   "outputs": [],
   "source": [
    "df_raw = pd.read_csv('../data/raw/train_users_2.csv', low_memory=False)\n",
    "df_sessions = pd.read_csv('../data/raw/sessions.csv', low_memory=False)"
   ]
  },
  {
   "cell_type": "markdown",
   "metadata": {},
   "source": [
    "# 1.0 Data Description"
   ]
  },
  {
   "cell_type": "code",
   "execution_count": 6,
   "metadata": {},
   "outputs": [
    {
     "data": {
      "text/html": [
       "<div>\n",
       "<style scoped>\n",
       "    .dataframe tbody tr th:only-of-type {\n",
       "        vertical-align: middle;\n",
       "    }\n",
       "\n",
       "    .dataframe tbody tr th {\n",
       "        vertical-align: top;\n",
       "    }\n",
       "\n",
       "    .dataframe thead th {\n",
       "        text-align: right;\n",
       "    }\n",
       "</style>\n",
       "<table border=\"1\" class=\"dataframe\">\n",
       "  <thead>\n",
       "    <tr style=\"text-align: right;\">\n",
       "      <th></th>\n",
       "      <th>id</th>\n",
       "      <th>date_account_created</th>\n",
       "      <th>timestamp_first_active</th>\n",
       "      <th>date_first_booking</th>\n",
       "      <th>gender</th>\n",
       "      <th>age</th>\n",
       "      <th>signup_method</th>\n",
       "      <th>signup_flow</th>\n",
       "      <th>language</th>\n",
       "      <th>affiliate_channel</th>\n",
       "      <th>affiliate_provider</th>\n",
       "      <th>first_affiliate_tracked</th>\n",
       "      <th>signup_app</th>\n",
       "      <th>first_device_type</th>\n",
       "      <th>first_browser</th>\n",
       "      <th>country_destination</th>\n",
       "    </tr>\n",
       "  </thead>\n",
       "  <tbody>\n",
       "    <tr>\n",
       "      <th>0</th>\n",
       "      <td>gxn3p5htnn</td>\n",
       "      <td>2010-06-28</td>\n",
       "      <td>20090319043255</td>\n",
       "      <td>NaN</td>\n",
       "      <td>-unknown-</td>\n",
       "      <td>NaN</td>\n",
       "      <td>facebook</td>\n",
       "      <td>0</td>\n",
       "      <td>en</td>\n",
       "      <td>direct</td>\n",
       "      <td>direct</td>\n",
       "      <td>untracked</td>\n",
       "      <td>Web</td>\n",
       "      <td>Mac Desktop</td>\n",
       "      <td>Chrome</td>\n",
       "      <td>NDF</td>\n",
       "    </tr>\n",
       "    <tr>\n",
       "      <th>1</th>\n",
       "      <td>820tgsjxq7</td>\n",
       "      <td>2011-05-25</td>\n",
       "      <td>20090523174809</td>\n",
       "      <td>NaN</td>\n",
       "      <td>MALE</td>\n",
       "      <td>38.0</td>\n",
       "      <td>facebook</td>\n",
       "      <td>0</td>\n",
       "      <td>en</td>\n",
       "      <td>seo</td>\n",
       "      <td>google</td>\n",
       "      <td>untracked</td>\n",
       "      <td>Web</td>\n",
       "      <td>Mac Desktop</td>\n",
       "      <td>Chrome</td>\n",
       "      <td>NDF</td>\n",
       "    </tr>\n",
       "    <tr>\n",
       "      <th>2</th>\n",
       "      <td>4ft3gnwmtx</td>\n",
       "      <td>2010-09-28</td>\n",
       "      <td>20090609231247</td>\n",
       "      <td>2010-08-02</td>\n",
       "      <td>FEMALE</td>\n",
       "      <td>56.0</td>\n",
       "      <td>basic</td>\n",
       "      <td>3</td>\n",
       "      <td>en</td>\n",
       "      <td>direct</td>\n",
       "      <td>direct</td>\n",
       "      <td>untracked</td>\n",
       "      <td>Web</td>\n",
       "      <td>Windows Desktop</td>\n",
       "      <td>IE</td>\n",
       "      <td>US</td>\n",
       "    </tr>\n",
       "    <tr>\n",
       "      <th>3</th>\n",
       "      <td>bjjt8pjhuk</td>\n",
       "      <td>2011-12-05</td>\n",
       "      <td>20091031060129</td>\n",
       "      <td>2012-09-08</td>\n",
       "      <td>FEMALE</td>\n",
       "      <td>42.0</td>\n",
       "      <td>facebook</td>\n",
       "      <td>0</td>\n",
       "      <td>en</td>\n",
       "      <td>direct</td>\n",
       "      <td>direct</td>\n",
       "      <td>untracked</td>\n",
       "      <td>Web</td>\n",
       "      <td>Mac Desktop</td>\n",
       "      <td>Firefox</td>\n",
       "      <td>other</td>\n",
       "    </tr>\n",
       "    <tr>\n",
       "      <th>4</th>\n",
       "      <td>87mebub9p4</td>\n",
       "      <td>2010-09-14</td>\n",
       "      <td>20091208061105</td>\n",
       "      <td>2010-02-18</td>\n",
       "      <td>-unknown-</td>\n",
       "      <td>41.0</td>\n",
       "      <td>basic</td>\n",
       "      <td>0</td>\n",
       "      <td>en</td>\n",
       "      <td>direct</td>\n",
       "      <td>direct</td>\n",
       "      <td>untracked</td>\n",
       "      <td>Web</td>\n",
       "      <td>Mac Desktop</td>\n",
       "      <td>Chrome</td>\n",
       "      <td>US</td>\n",
       "    </tr>\n",
       "  </tbody>\n",
       "</table>\n",
       "</div>"
      ],
      "text/plain": [
       "           id date_account_created  timestamp_first_active date_first_booking  \\\n",
       "0  gxn3p5htnn           2010-06-28          20090319043255                NaN   \n",
       "1  820tgsjxq7           2011-05-25          20090523174809                NaN   \n",
       "2  4ft3gnwmtx           2010-09-28          20090609231247         2010-08-02   \n",
       "3  bjjt8pjhuk           2011-12-05          20091031060129         2012-09-08   \n",
       "4  87mebub9p4           2010-09-14          20091208061105         2010-02-18   \n",
       "\n",
       "      gender   age signup_method  signup_flow language affiliate_channel  \\\n",
       "0  -unknown-   NaN      facebook            0       en            direct   \n",
       "1       MALE  38.0      facebook            0       en               seo   \n",
       "2     FEMALE  56.0         basic            3       en            direct   \n",
       "3     FEMALE  42.0      facebook            0       en            direct   \n",
       "4  -unknown-  41.0         basic            0       en            direct   \n",
       "\n",
       "  affiliate_provider first_affiliate_tracked signup_app first_device_type  \\\n",
       "0             direct               untracked        Web       Mac Desktop   \n",
       "1             google               untracked        Web       Mac Desktop   \n",
       "2             direct               untracked        Web   Windows Desktop   \n",
       "3             direct               untracked        Web       Mac Desktop   \n",
       "4             direct               untracked        Web       Mac Desktop   \n",
       "\n",
       "  first_browser country_destination  \n",
       "0        Chrome                 NDF  \n",
       "1        Chrome                 NDF  \n",
       "2            IE                  US  \n",
       "3       Firefox               other  \n",
       "4        Chrome                  US  "
      ]
     },
     "execution_count": 6,
     "metadata": {},
     "output_type": "execute_result"
    }
   ],
   "source": [
    "df1 = df_raw.copy()\n",
    "\n",
    "df1.head()"
   ]
  },
  {
   "cell_type": "markdown",
   "metadata": {},
   "source": [
    "## 1.1 Data Dimension"
   ]
  },
  {
   "cell_type": "code",
   "execution_count": 7,
   "metadata": {},
   "outputs": [
    {
     "name": "stdout",
     "output_type": "stream",
     "text": [
      "number of rows: 213451\n",
      "number of cols: 16\n"
     ]
    }
   ],
   "source": [
    "print(f'number of rows: {df1.shape[0]}')\n",
    "print(f'number of cols: {df1.shape[1]}')"
   ]
  },
  {
   "cell_type": "code",
   "execution_count": 8,
   "metadata": {},
   "outputs": [
    {
     "name": "stdout",
     "output_type": "stream",
     "text": [
      "number of rows: 10567737\n",
      "number of cols: 6\n"
     ]
    }
   ],
   "source": [
    "print(f'number of rows: {df_sessions.shape[0]}')\n",
    "print(f'number of cols: {df_sessions.shape[1]}')"
   ]
  },
  {
   "cell_type": "markdown",
   "metadata": {},
   "source": [
    "## 1.2 Data Types"
   ]
  },
  {
   "cell_type": "code",
   "execution_count": 9,
   "metadata": {},
   "outputs": [
    {
     "data": {
      "text/plain": [
       "id                          object\n",
       "date_account_created        object\n",
       "timestamp_first_active       int64\n",
       "date_first_booking          object\n",
       "gender                      object\n",
       "age                        float64\n",
       "signup_method               object\n",
       "signup_flow                  int64\n",
       "language                    object\n",
       "affiliate_channel           object\n",
       "affiliate_provider          object\n",
       "first_affiliate_tracked     object\n",
       "signup_app                  object\n",
       "first_device_type           object\n",
       "first_browser               object\n",
       "country_destination         object\n",
       "dtype: object"
      ]
     },
     "execution_count": 9,
     "metadata": {},
     "output_type": "execute_result"
    }
   ],
   "source": [
    "df1.dtypes"
   ]
  },
  {
   "cell_type": "code",
   "execution_count": 10,
   "metadata": {},
   "outputs": [
    {
     "data": {
      "text/plain": [
       "user_id           object\n",
       "action            object\n",
       "action_type       object\n",
       "action_detail     object\n",
       "device_type       object\n",
       "secs_elapsed     float64\n",
       "dtype: object"
      ]
     },
     "execution_count": 10,
     "metadata": {},
     "output_type": "execute_result"
    }
   ],
   "source": [
    "df_sessions.dtypes"
   ]
  },
  {
   "cell_type": "markdown",
   "metadata": {},
   "source": [
    "## 1.3 Check NA"
   ]
  },
  {
   "cell_type": "code",
   "execution_count": 11,
   "metadata": {},
   "outputs": [
    {
     "data": {
      "text/plain": [
       "id                         0.000000\n",
       "date_account_created       0.000000\n",
       "timestamp_first_active     0.000000\n",
       "date_first_booking         0.583473\n",
       "gender                     0.000000\n",
       "age                        0.412226\n",
       "signup_method              0.000000\n",
       "signup_flow                0.000000\n",
       "language                   0.000000\n",
       "affiliate_channel          0.000000\n",
       "affiliate_provider         0.000000\n",
       "first_affiliate_tracked    0.028414\n",
       "signup_app                 0.000000\n",
       "first_device_type          0.000000\n",
       "first_browser              0.000000\n",
       "country_destination        0.000000\n",
       "dtype: float64"
      ]
     },
     "execution_count": 11,
     "metadata": {},
     "output_type": "execute_result"
    }
   ],
   "source": [
    "df1.isna().sum() / len(df1)"
   ]
  },
  {
   "cell_type": "code",
   "execution_count": 12,
   "metadata": {},
   "outputs": [
    {
     "data": {
      "text/plain": [
       "user_id          0.003264\n",
       "action           0.007535\n",
       "action_type      0.106570\n",
       "action_detail    0.106570\n",
       "device_type      0.000000\n",
       "secs_elapsed     0.012872\n",
       "dtype: float64"
      ]
     },
     "execution_count": 12,
     "metadata": {},
     "output_type": "execute_result"
    }
   ],
   "source": [
    "df_sessions.isna().sum() / len(df_sessions)"
   ]
  },
  {
   "cell_type": "markdown",
   "metadata": {},
   "source": [
    "## 1.4 Replace NA"
   ]
  },
  {
   "cell_type": "code",
   "execution_count": 13,
   "metadata": {},
   "outputs": [],
   "source": [
    "# ========== User =================\n",
    "# date_first_booking\n",
    "date_first_booking_max = pd.to_datetime(df1['date_first_booking']).max().strftime('%Y-%m-%d')\n",
    "df1['date_first_booking'] = df1['date_first_booking'].fillna(date_first_booking_max)\n",
    "\n",
    "# age\n",
    "df1 = df1[(df1['age'] > 15) & (df1['age'] < 120)]\n",
    "avg_age = df1['age'].astype('int64').mean()\n",
    "df1['age'] = df1['age'].fillna( avg_age )\n",
    "\n",
    "# first_affiliate_tracked\n",
    "df1 = df1[~df1['first_affiliate_tracked'].isna()]\n",
    "\n",
    "# ========== Sessions =================\n",
    "# user_id - 0.3% \n",
    "# # action - 0.7% \n",
    "# # action_type - 11% \n",
    "# # action_detail - 11% \n",
    "# # secs_elapsed - 1.2%\n",
    "df_sessions = df_sessions.dropna()"
   ]
  },
  {
   "cell_type": "code",
   "execution_count": 14,
   "metadata": {},
   "outputs": [
    {
     "data": {
      "text/plain": [
       "id                         0.0\n",
       "date_account_created       0.0\n",
       "timestamp_first_active     0.0\n",
       "date_first_booking         0.0\n",
       "gender                     0.0\n",
       "age                        0.0\n",
       "signup_method              0.0\n",
       "signup_flow                0.0\n",
       "language                   0.0\n",
       "affiliate_channel          0.0\n",
       "affiliate_provider         0.0\n",
       "first_affiliate_tracked    0.0\n",
       "signup_app                 0.0\n",
       "first_device_type          0.0\n",
       "first_browser              0.0\n",
       "country_destination        0.0\n",
       "dtype: float64"
      ]
     },
     "execution_count": 14,
     "metadata": {},
     "output_type": "execute_result"
    }
   ],
   "source": [
    "df1.isna().sum() / len(df1)"
   ]
  },
  {
   "cell_type": "code",
   "execution_count": 15,
   "metadata": {},
   "outputs": [
    {
     "data": {
      "text/plain": [
       "user_id          0.0\n",
       "action           0.0\n",
       "action_type      0.0\n",
       "action_detail    0.0\n",
       "device_type      0.0\n",
       "secs_elapsed     0.0\n",
       "dtype: float64"
      ]
     },
     "execution_count": 15,
     "metadata": {},
     "output_type": "execute_result"
    }
   ],
   "source": [
    "df_sessions.isna().sum() / len(df_sessions)"
   ]
  },
  {
   "cell_type": "markdown",
   "metadata": {},
   "source": [
    "## 1.5 Change Types"
   ]
  },
  {
   "cell_type": "code",
   "execution_count": 16,
   "metadata": {},
   "outputs": [],
   "source": [
    " # date_account_created\n",
    "df1['date_account_created'] = pd.to_datetime( df1['date_account_created'] )\n",
    "\n",
    "# timestamp_first_active\n",
    "df1['timestamp_first_active'] = pd.to_datetime( df1['timestamp_first_active'], format='%Y%m%d%H%M%S' )\n",
    "\n",
    "# date_first_booking\n",
    "df1['date_first_booking'] = pd.to_datetime( df1['date_first_booking'] )\n",
    "\n",
    "# age\n",
    "df1['age'] = df1['age'].astype( 'int64' )"
   ]
  },
  {
   "cell_type": "code",
   "execution_count": 17,
   "metadata": {},
   "outputs": [
    {
     "data": {
      "text/plain": [
       "id                                 object\n",
       "date_account_created       datetime64[ns]\n",
       "timestamp_first_active     datetime64[ns]\n",
       "date_first_booking         datetime64[ns]\n",
       "gender                             object\n",
       "age                                 int64\n",
       "signup_method                      object\n",
       "signup_flow                         int64\n",
       "language                           object\n",
       "affiliate_channel                  object\n",
       "affiliate_provider                 object\n",
       "first_affiliate_tracked            object\n",
       "signup_app                         object\n",
       "first_device_type                  object\n",
       "first_browser                      object\n",
       "country_destination                object\n",
       "dtype: object"
      ]
     },
     "execution_count": 17,
     "metadata": {},
     "output_type": "execute_result"
    }
   ],
   "source": [
    "df1.dtypes"
   ]
  },
  {
   "cell_type": "markdown",
   "metadata": {},
   "source": [
    "## 1.6 Check Balanced Data"
   ]
  },
  {
   "cell_type": "code",
   "execution_count": 18,
   "metadata": {},
   "outputs": [
    {
     "data": {
      "text/plain": [
       "NDF      0.447275\n",
       "US       0.391867\n",
       "other    0.061246\n",
       "FR       0.029918\n",
       "IT       0.016423\n",
       "GB       0.014335\n",
       "ES       0.013740\n",
       "CA       0.008676\n",
       "DE       0.006858\n",
       "NL       0.004852\n",
       "AU       0.003531\n",
       "PT       0.001280\n",
       "Name: country_destination, dtype: float64"
      ]
     },
     "execution_count": 18,
     "metadata": {},
     "output_type": "execute_result"
    }
   ],
   "source": [
    "df1['country_destination'].value_counts( normalize=True )"
   ]
  },
  {
   "cell_type": "markdown",
   "metadata": {},
   "source": [
    "## 1.7 Descriptive Statistical"
   ]
  },
  {
   "cell_type": "code",
   "execution_count": 19,
   "metadata": {},
   "outputs": [],
   "source": [
    "# Users\n",
    "num_attributes = df1.select_dtypes(include=['int64', 'float64'])\n",
    "cat_attributes = df1.select_dtypes(exclude=['int64', 'float64', 'datetime64[ns]'])\n",
    "time_attributes = df1.select_dtypes(include=['datetime64[ns]'])\n",
    "\n",
    "# Sessions\n",
    "num_attributes_sessions = df_sessions.select_dtypes(include=['int64', 'float64'])\n",
    "cat_attributes_sessions = df_sessions.select_dtypes(exclude=['int64', 'float64', 'datetime64[ns]']).drop('user_id', axis=1)\n",
    "time_attributes_sessions = df_sessions.select_dtypes(include=['datetime64[ns]'])"
   ]
  },
  {
   "cell_type": "markdown",
   "id": "b10f4885",
   "metadata": {},
   "source": [
    "### 1.7.1 Numerical Attributes - Users"
   ]
  },
  {
   "cell_type": "code",
   "execution_count": 20,
   "metadata": {},
   "outputs": [
    {
     "data": {
      "text/html": [
       "<div>\n",
       "<style scoped>\n",
       "    .dataframe tbody tr th:only-of-type {\n",
       "        vertical-align: middle;\n",
       "    }\n",
       "\n",
       "    .dataframe tbody tr th {\n",
       "        vertical-align: top;\n",
       "    }\n",
       "\n",
       "    .dataframe thead th {\n",
       "        text-align: right;\n",
       "    }\n",
       "</style>\n",
       "<table border=\"1\" class=\"dataframe\">\n",
       "  <thead>\n",
       "    <tr style=\"text-align: right;\">\n",
       "      <th></th>\n",
       "      <th>min</th>\n",
       "      <th>max</th>\n",
       "      <th>range</th>\n",
       "      <th>mean</th>\n",
       "      <th>median</th>\n",
       "      <th>std</th>\n",
       "      <th>skew</th>\n",
       "      <th>kurtosis</th>\n",
       "    </tr>\n",
       "  </thead>\n",
       "  <tbody>\n",
       "    <tr>\n",
       "      <th>age</th>\n",
       "      <td>16.0</td>\n",
       "      <td>115.0</td>\n",
       "      <td>99.0</td>\n",
       "      <td>37.405591</td>\n",
       "      <td>34.0</td>\n",
       "      <td>13.939900</td>\n",
       "      <td>2.089718</td>\n",
       "      <td>6.516468</td>\n",
       "    </tr>\n",
       "    <tr>\n",
       "      <th>signup_flow</th>\n",
       "      <td>0.0</td>\n",
       "      <td>25.0</td>\n",
       "      <td>25.0</td>\n",
       "      <td>2.519513</td>\n",
       "      <td>0.0</td>\n",
       "      <td>6.604723</td>\n",
       "      <td>2.705871</td>\n",
       "      <td>5.928298</td>\n",
       "    </tr>\n",
       "  </tbody>\n",
       "</table>\n",
       "</div>"
      ],
      "text/plain": [
       "              min    max  range       mean  median        std      skew  \\\n",
       "age          16.0  115.0   99.0  37.405591    34.0  13.939900  2.089718   \n",
       "signup_flow   0.0   25.0   25.0   2.519513     0.0   6.604723  2.705871   \n",
       "\n",
       "             kurtosis  \n",
       "age          6.516468  \n",
       "signup_flow  5.928298  "
      ]
     },
     "execution_count": 20,
     "metadata": {},
     "output_type": "execute_result"
    }
   ],
   "source": [
    "# Create metrics of central tendency and dispersion\n",
    "d1 = pd.DataFrame(num_attributes.apply(lambda x: x.max() - x.min())).rename(columns={0: 'range'}).T\n",
    "d2 = num_attributes.agg(['min', 'max', 'mean', 'median', 'std', 'skew', 'kurtosis'])\n",
    "\n",
    "# concat all metrics\n",
    "met = pd.concat([d1, d2]).T\n",
    "met = met[['min', 'max', 'range', 'mean', 'median', 'std', 'skew', 'kurtosis']]\n",
    "met"
   ]
  },
  {
   "cell_type": "markdown",
   "id": "b10f4885",
   "metadata": {},
   "source": [
    "### 1.7.2 Numerical Attributes - Sessions"
   ]
  },
  {
   "cell_type": "code",
   "execution_count": 21,
   "metadata": {},
   "outputs": [
    {
     "data": {
      "text/html": [
       "<div>\n",
       "<style scoped>\n",
       "    .dataframe tbody tr th:only-of-type {\n",
       "        vertical-align: middle;\n",
       "    }\n",
       "\n",
       "    .dataframe tbody tr th {\n",
       "        vertical-align: top;\n",
       "    }\n",
       "\n",
       "    .dataframe thead th {\n",
       "        text-align: right;\n",
       "    }\n",
       "</style>\n",
       "<table border=\"1\" class=\"dataframe\">\n",
       "  <thead>\n",
       "    <tr style=\"text-align: right;\">\n",
       "      <th></th>\n",
       "      <th>min</th>\n",
       "      <th>max</th>\n",
       "      <th>range</th>\n",
       "      <th>mean</th>\n",
       "      <th>median</th>\n",
       "      <th>std</th>\n",
       "      <th>skew</th>\n",
       "      <th>kurtosis</th>\n",
       "    </tr>\n",
       "  </thead>\n",
       "  <tbody>\n",
       "    <tr>\n",
       "      <th>secs_elapsed</th>\n",
       "      <td>0.0</td>\n",
       "      <td>1799977.0</td>\n",
       "      <td>1799977.0</td>\n",
       "      <td>19961.8251</td>\n",
       "      <td>1369.0</td>\n",
       "      <td>88849.39327</td>\n",
       "      <td>11.137761</td>\n",
       "      <td>154.84312</td>\n",
       "    </tr>\n",
       "  </tbody>\n",
       "</table>\n",
       "</div>"
      ],
      "text/plain": [
       "              min        max      range        mean  median          std  \\\n",
       "secs_elapsed  0.0  1799977.0  1799977.0  19961.8251  1369.0  88849.39327   \n",
       "\n",
       "                   skew   kurtosis  \n",
       "secs_elapsed  11.137761  154.84312  "
      ]
     },
     "execution_count": 21,
     "metadata": {},
     "output_type": "execute_result"
    }
   ],
   "source": [
    "# Create metrics of central tendency and dispersion\n",
    "d1 = pd.DataFrame(num_attributes_sessions.apply(lambda x: x.max() - x.min())).rename(columns={0: 'range'}).T\n",
    "d2 = num_attributes_sessions.agg(['min', 'max', 'mean', 'median', 'std', 'skew', 'kurtosis'])\n",
    "\n",
    "# concat all metrics\n",
    "met = pd.concat([d1, d2]).T\n",
    "met = met[['min', 'max', 'range', 'mean', 'median', 'std', 'skew', 'kurtosis']]\n",
    "met"
   ]
  },
  {
   "cell_type": "markdown",
   "id": "bb84e62f",
   "metadata": {},
   "source": [
    "### 1.7.3 Categorical Attributes - Users"
   ]
  },
  {
   "cell_type": "code",
   "execution_count": 22,
   "metadata": {},
   "outputs": [
    {
     "data": {
      "text/html": [
       "<div>\n",
       "<style scoped>\n",
       "    .dataframe tbody tr th:only-of-type {\n",
       "        vertical-align: middle;\n",
       "    }\n",
       "\n",
       "    .dataframe tbody tr th {\n",
       "        vertical-align: top;\n",
       "    }\n",
       "\n",
       "    .dataframe thead th {\n",
       "        text-align: right;\n",
       "    }\n",
       "</style>\n",
       "<table border=\"1\" class=\"dataframe\">\n",
       "  <thead>\n",
       "    <tr style=\"text-align: right;\">\n",
       "      <th></th>\n",
       "      <th>gender</th>\n",
       "      <th>signup_method</th>\n",
       "      <th>language</th>\n",
       "      <th>affiliate_channel</th>\n",
       "      <th>affiliate_provider</th>\n",
       "      <th>first_affiliate_tracked</th>\n",
       "      <th>signup_app</th>\n",
       "      <th>first_device_type</th>\n",
       "      <th>first_browser</th>\n",
       "      <th>country_destination</th>\n",
       "    </tr>\n",
       "  </thead>\n",
       "  <tbody>\n",
       "    <tr>\n",
       "      <th>count</th>\n",
       "      <td>122636</td>\n",
       "      <td>122636</td>\n",
       "      <td>122636</td>\n",
       "      <td>122636</td>\n",
       "      <td>122636</td>\n",
       "      <td>122636</td>\n",
       "      <td>122636</td>\n",
       "      <td>122636</td>\n",
       "      <td>122636</td>\n",
       "      <td>122636</td>\n",
       "    </tr>\n",
       "    <tr>\n",
       "      <th>unique</th>\n",
       "      <td>4</td>\n",
       "      <td>3</td>\n",
       "      <td>25</td>\n",
       "      <td>8</td>\n",
       "      <td>17</td>\n",
       "      <td>7</td>\n",
       "      <td>4</td>\n",
       "      <td>9</td>\n",
       "      <td>41</td>\n",
       "      <td>12</td>\n",
       "    </tr>\n",
       "    <tr>\n",
       "      <th>top</th>\n",
       "      <td>FEMALE</td>\n",
       "      <td>basic</td>\n",
       "      <td>en</td>\n",
       "      <td>direct</td>\n",
       "      <td>direct</td>\n",
       "      <td>untracked</td>\n",
       "      <td>Web</td>\n",
       "      <td>Mac Desktop</td>\n",
       "      <td>Chrome</td>\n",
       "      <td>NDF</td>\n",
       "    </tr>\n",
       "    <tr>\n",
       "      <th>freq</th>\n",
       "      <td>56362</td>\n",
       "      <td>66039</td>\n",
       "      <td>118205</td>\n",
       "      <td>79093</td>\n",
       "      <td>78954</td>\n",
       "      <td>64712</td>\n",
       "      <td>108283</td>\n",
       "      <td>57943</td>\n",
       "      <td>41778</td>\n",
       "      <td>54852</td>\n",
       "    </tr>\n",
       "  </tbody>\n",
       "</table>\n",
       "</div>"
      ],
      "text/plain": [
       "        gender signup_method language affiliate_channel affiliate_provider  \\\n",
       "count   122636        122636   122636            122636             122636   \n",
       "unique       4             3       25                 8                 17   \n",
       "top     FEMALE         basic       en            direct             direct   \n",
       "freq     56362         66039   118205             79093              78954   \n",
       "\n",
       "       first_affiliate_tracked signup_app first_device_type first_browser  \\\n",
       "count                   122636     122636            122636        122636   \n",
       "unique                       7          4                 9            41   \n",
       "top                  untracked        Web       Mac Desktop        Chrome   \n",
       "freq                     64712     108283             57943         41778   \n",
       "\n",
       "       country_destination  \n",
       "count               122636  \n",
       "unique                  12  \n",
       "top                    NDF  \n",
       "freq                 54852  "
      ]
     },
     "execution_count": 22,
     "metadata": {},
     "output_type": "execute_result"
    }
   ],
   "source": [
    "cat_attributes.drop('id', axis=1).describe()"
   ]
  },
  {
   "cell_type": "markdown",
   "id": "bb84e62f",
   "metadata": {},
   "source": [
    "### 1.7.4 Categorical Attributes - Sessions"
   ]
  },
  {
   "cell_type": "code",
   "execution_count": 23,
   "metadata": {},
   "outputs": [
    {
     "data": {
      "text/html": [
       "<div>\n",
       "<style scoped>\n",
       "    .dataframe tbody tr th:only-of-type {\n",
       "        vertical-align: middle;\n",
       "    }\n",
       "\n",
       "    .dataframe tbody tr th {\n",
       "        vertical-align: top;\n",
       "    }\n",
       "\n",
       "    .dataframe thead th {\n",
       "        text-align: right;\n",
       "    }\n",
       "</style>\n",
       "<table border=\"1\" class=\"dataframe\">\n",
       "  <thead>\n",
       "    <tr style=\"text-align: right;\">\n",
       "      <th></th>\n",
       "      <th>action</th>\n",
       "      <th>action_type</th>\n",
       "      <th>action_detail</th>\n",
       "      <th>device_type</th>\n",
       "    </tr>\n",
       "  </thead>\n",
       "  <tbody>\n",
       "    <tr>\n",
       "      <th>count</th>\n",
       "      <td>9213930</td>\n",
       "      <td>9213930</td>\n",
       "      <td>9213930</td>\n",
       "      <td>9213930</td>\n",
       "    </tr>\n",
       "    <tr>\n",
       "      <th>unique</th>\n",
       "      <td>347</td>\n",
       "      <td>10</td>\n",
       "      <td>155</td>\n",
       "      <td>14</td>\n",
       "    </tr>\n",
       "    <tr>\n",
       "      <th>top</th>\n",
       "      <td>show</td>\n",
       "      <td>view</td>\n",
       "      <td>view_search_results</td>\n",
       "      <td>Mac Desktop</td>\n",
       "    </tr>\n",
       "    <tr>\n",
       "      <th>freq</th>\n",
       "      <td>2178382</td>\n",
       "      <td>3545621</td>\n",
       "      <td>1770931</td>\n",
       "      <td>3019523</td>\n",
       "    </tr>\n",
       "  </tbody>\n",
       "</table>\n",
       "</div>"
      ],
      "text/plain": [
       "         action action_type        action_detail  device_type\n",
       "count   9213930     9213930              9213930      9213930\n",
       "unique      347          10                  155           14\n",
       "top        show        view  view_search_results  Mac Desktop\n",
       "freq    2178382     3545621              1770931      3019523"
      ]
     },
     "execution_count": 23,
     "metadata": {},
     "output_type": "execute_result"
    }
   ],
   "source": [
    "cat_attributes_sessions.describe()"
   ]
  },
  {
   "cell_type": "code",
   "execution_count": 25,
   "metadata": {},
   "outputs": [
    {
     "data": {
      "image/png": "[encoded data removed]",
      "text/plain": [
       "<Figure size 640x480 with 2 Axes>"
      ]
     },
     "metadata": {},
     "output_type": "display_data"
    }
   ],
   "source": [
    "# Cramer V correlation\n",
    "d = pycorrcat.corr_matrix(cat_attributes_sessions, ['action', 'action_type', 'action_detail', 'device_type'])\n",
    "sns.heatmap(d, annot=True);"
   ]
  },
  {
   "cell_type": "markdown",
   "metadata": {},
   "source": [
    "# 2.0 Data Filtering"
   ]
  },
  {
   "cell_type": "code",
   "execution_count": 26,
   "metadata": {},
   "outputs": [],
   "source": [
    "df2 = df1.copy()"
   ]
  },
  {
   "cell_type": "markdown",
   "metadata": {},
   "source": [
    "## 2.1. Filtering Rows"
   ]
  },
  {
   "cell_type": "code",
   "execution_count": 29,
   "metadata": {},
   "outputs": [],
   "source": [
    "# Filtering rows:\n",
    "# age - greater than 15 and lower than 120 - There are few people over 12O year old   \n",
    "df2 = df2[( df2['age'] > 15 ) & ( df2['age'] < 120 )]"
   ]
  },
  {
   "cell_type": "markdown",
   "metadata": {},
   "source": [
    "## 2.2. Columns Selection"
   ]
  },
  {
   "cell_type": "code",
   "execution_count": null,
   "metadata": {},
   "outputs": [],
   "source": []
  },
  {
   "cell_type": "markdown",
   "id": "055dd8b4",
   "metadata": {
    "heading_collapsed": true
   },
   "source": [
    "# 3.0 Feature Engineering"
   ]
  },
  {
   "cell_type": "code",
   "execution_count": 30,
   "metadata": {},
   "outputs": [],
   "source": [
    "df3 = df2.copy()"
   ]
  },
  {
   "cell_type": "code",
   "execution_count": 31,
   "metadata": {},
   "outputs": [
    {
     "name": "stderr",
     "output_type": "stream",
     "text": [
      "C:\\Users\\SamuelOliveiraAlvesd\\AppData\\Local\\Temp\\ipykernel_980\\1886894544.py:25: FutureWarning: Series.dt.weekofyear and Series.dt.week have been deprecated. Please use Series.dt.isocalendar().week instead.\n",
      "  df3['week_of_year_first_active'] = df3['first_active'].dt.weekofyear\n",
      "C:\\Users\\SamuelOliveiraAlvesd\\AppData\\Local\\Temp\\ipykernel_980\\1886894544.py:41: FutureWarning: Series.dt.weekofyear and Series.dt.week have been deprecated. Please use Series.dt.isocalendar().week instead.\n",
      "  df3['week_of_year_first_booking'] = df3['date_first_booking'].dt.weekofyear\n",
      "C:\\Users\\SamuelOliveiraAlvesd\\AppData\\Local\\Temp\\ipykernel_980\\1886894544.py:57: FutureWarning: Series.dt.weekofyear and Series.dt.week have been deprecated. Please use Series.dt.isocalendar().week instead.\n",
      "  df3['week_of_year_account_created'] = df3['date_account_created'].dt.weekofyear\n"
     ]
    }
   ],
   "source": [
    " # days from first active up to first booking\n",
    "df3['first_active'] = pd.to_datetime(df3['timestamp_first_active'].dt.strftime( '%Y-%m-%d' ) )\n",
    "df3['days_from_frist_active_until_booking'] = (df3['date_first_booking'] - df3['first_active'] ).apply( lambda x: x.days )\n",
    "\n",
    "# days from first active upt to account created\n",
    "df3['days_from_first_active_until_account_created'] = (df3['date_account_created'] - df3['first_active'] ).apply( lambda x: x.days )\n",
    "\n",
    "# days from account createad up to first booking\n",
    "df3['days_from_account_created_until_first_booking'] = (df3['date_first_booking'] - df3['date_account_created'] ).apply( lambda x: x.days )\n",
    "\n",
    "# ================== First Active ==================\n",
    "# year first active\n",
    "df3['year_first_active'] = df3['first_active'].dt.year\n",
    "\n",
    "# month first active\n",
    "df3['month_fist_active'] = df3['first_active'].dt.month\n",
    "\n",
    "# day first active\n",
    "df3['day_first_active'] = df3['first_active'].dt.day\n",
    "\n",
    "# day of week first active\n",
    "df3['day_of_week_first_active'] = df3['first_active'].dt.dayofweek\n",
    "\n",
    "# week of year first active\n",
    "df3['week_of_year_first_active'] = df3['first_active'].dt.weekofyear\n",
    "\n",
    "# ================== First Booking ==================\n",
    "# year first booking\n",
    "df3['year_first_booking'] = df3['date_first_booking'].dt.year\n",
    "\n",
    "# month first booking\n",
    "df3['month_first_booking'] = df3['date_first_booking'].dt.month\n",
    "\n",
    "# day first booking\n",
    "df3['day_first_booking'] = df3['date_first_booking'].dt.day\n",
    "\n",
    "# day of week first booking\n",
    "df3['day_of_week_first_booking'] = df3['date_first_booking'].dt.dayofweek\n",
    "\n",
    "# week of year first booking\n",
    "df3['week_of_year_first_booking'] = df3['date_first_booking'].dt.weekofyear\n",
    "\n",
    "# ================== First Account Created =================\n",
    "# year first booking\n",
    "df3['year_account_created'] = df3['date_account_created'].dt.year\n",
    "\n",
    "# month  account_created\n",
    "df3['month_account_created'] = df3['date_account_created'].dt.month\n",
    "\n",
    "# day  account_created\n",
    "df3['day_account_created'] = df3['date_account_created'].dt.day\n",
    "\n",
    "# day of week  account_created\n",
    "df3['day_of_week_account_created'] = df3['date_account_created'].dt.dayofweek\n",
    "\n",
    "# week of year  account_created\n",
    "df3['week_of_year_account_created'] = df3['date_account_created'].dt.weekofyear"
   ]
  },
  {
   "cell_type": "code",
   "execution_count": 32,
   "metadata": {},
   "outputs": [
    {
     "data": {
      "text/plain": [
       "id                                               0\n",
       "date_account_created                             0\n",
       "timestamp_first_active                           0\n",
       "date_first_booking                               0\n",
       "gender                                           0\n",
       "age                                              0\n",
       "signup_method                                    0\n",
       "signup_flow                                      0\n",
       "language                                         0\n",
       "affiliate_channel                                0\n",
       "affiliate_provider                               0\n",
       "first_affiliate_tracked                          0\n",
       "signup_app                                       0\n",
       "first_device_type                                0\n",
       "first_browser                                    0\n",
       "country_destination                              0\n",
       "first_active                                     0\n",
       "days_from_frist_active_until_booking             0\n",
       "days_from_first_active_until_account_created     0\n",
       "days_from_account_created_until_first_booking    0\n",
       "year_first_active                                0\n",
       "month_fist_active                                0\n",
       "day_first_active                                 0\n",
       "day_of_week_first_active                         0\n",
       "week_of_year_first_active                        0\n",
       "year_first_booking                               0\n",
       "month_first_booking                              0\n",
       "day_first_booking                                0\n",
       "day_of_week_first_booking                        0\n",
       "week_of_year_first_booking                       0\n",
       "year_account_created                             0\n",
       "month_account_created                            0\n",
       "day_account_created                              0\n",
       "day_of_week_account_created                      0\n",
       "week_of_year_account_created                     0\n",
       "dtype: int64"
      ]
     },
     "execution_count": 32,
     "metadata": {},
     "output_type": "execute_result"
    }
   ],
   "source": [
    "df3.isna().sum()"
   ]
  },
  {
   "cell_type": "code",
   "execution_count": 33,
   "metadata": {},
   "outputs": [
    {
     "data": {
      "text/plain": [
       "(122636, 35)"
      ]
     },
     "execution_count": 33,
     "metadata": {},
     "output_type": "execute_result"
    }
   ],
   "source": [
    "df3.shape"
   ]
  },
  {
   "cell_type": "markdown",
   "metadata": {},
   "source": [
    "# 4.0 Exploratory Data Analysis"
   ]
  },
  {
   "cell_type": "markdown",
   "metadata": {},
   "source": [
    "# 5.0 Data Preparation"
   ]
  },
  {
   "cell_type": "code",
   "execution_count": 34,
   "metadata": {},
   "outputs": [],
   "source": [
    "df5 = df3.copy()"
   ]
  },
  {
   "cell_type": "code",
   "execution_count": 35,
   "metadata": {},
   "outputs": [],
   "source": [
    "# dummy variable\n",
    "df5_dummy = pd.get_dummies(df5.drop(['id', 'country_destination'], axis=1 ))\n",
    "\n",
    "# join id\n",
    "df5 = pd.concat([df5[['id', 'country_destination']], df5_dummy], axis=1)"
   ]
  },
  {
   "cell_type": "code",
   "execution_count": 36,
   "metadata": {},
   "outputs": [],
   "source": [
    "X = df5.drop('country_destination', axis=1)\n",
    "y = df5['country_destination'].copy()"
   ]
  },
  {
   "cell_type": "code",
   "execution_count": 52,
   "metadata": {},
   "outputs": [],
   "source": [
    "# Split dataset into training and test\n",
    "X_train, X_test, y_train, y_test = ms.train_test_split(X, y, test_size=0.2, random_state=42, stratify=y)"
   ]
  },
  {
   "cell_type": "code",
   "execution_count": null,
   "metadata": {},
   "outputs": [],
   "source": [
    "#  # dummy variable\n",
    "# X_test_dummy = pd.get_dummies(X_test.drop( ['id'], axis=1))\n",
    "\n",
    "# # join id and\n",
    "# X_test = pd.concat([X_test[['id']], X_test_dummy], axis=1)"
   ]
  },
  {
   "cell_type": "markdown",
   "metadata": {},
   "source": [
    "# 6.0 Feature Selection"
   ]
  },
  {
   "cell_type": "code",
   "execution_count": 53,
   "metadata": {},
   "outputs": [],
   "source": [
    "cols_drop = ['date_account_created', 'timestamp_first_active', 'date_first_booking', 'first_active'] # original dates\n",
    "\n",
    "df6_train = X_train.drop(cols_drop, axis=1)"
   ]
  },
  {
   "cell_type": "code",
   "execution_count": 54,
   "metadata": {},
   "outputs": [],
   "source": [
    "df6_test = X_test.drop(cols_drop, axis=1)"
   ]
  },
  {
   "cell_type": "code",
   "execution_count": null,
   "metadata": {},
   "outputs": [],
   "source": [
    "# # Saving Interim Data\n",
    "# df6_train.to_parquet('../data/interim/df6_train.parquet')\n",
    "# df6_test.to_parquet('../data/interim/df6_test.parquet')\n",
    "\n",
    "# pickle.dump(y_train, open('../data/interim/y_train.pkl', 'wb'))\n",
    "# pickle.dump(y_test, open('../data/interim/y_test.pkl', 'wb'))"
   ]
  },
  {
   "cell_type": "markdown",
   "metadata": {},
   "source": [
    "# 7.0 Machine Learning Modelling"
   ]
  },
  {
   "cell_type": "code",
   "execution_count": 55,
   "metadata": {},
   "outputs": [],
   "source": [
    "x_train = df6_train.drop('id', axis=1)\n",
    "x_test = df6_test.drop('id', axis=1)"
   ]
  },
  {
   "cell_type": "markdown",
   "metadata": {},
   "source": [
    "## 7.1 Baseline Model"
   ]
  },
  {
   "cell_type": "code",
   "execution_count": 56,
   "metadata": {},
   "outputs": [],
   "source": [
    "cd_list = df1['country_destination'].drop_duplicates().sort_values().tolist()\n",
    "k_num = y_test.shape[0]\n",
    "cd_weights = df1['country_destination'].value_counts(normalize=True).sort_index().tolist()\n",
    "\n",
    "yhat_random = random.choices(population=cd_list, weights=cd_weights, k=k_num)"
   ]
  },
  {
   "cell_type": "markdown",
   "metadata": {},
   "source": [
    "### 7.1.1 Baseline Model Performance"
   ]
  },
  {
   "cell_type": "code",
   "execution_count": 57,
   "metadata": {},
   "outputs": [
    {
     "name": "stdout",
     "output_type": "stream",
     "text": [
      "Accuracy: 0.3593036529680365\n",
      "Accuracy: 0.0823439760811336\n",
      "Accuracy: -0.001131572172633044\n",
      "              precision    recall  f1-score   support\n",
      "\n",
      "          AU       0.00      0.00      0.00        86\n",
      "          CA       0.01      0.00      0.01       213\n",
      "          DE       0.00      0.00      0.00       168\n",
      "          ES       0.02      0.02      0.02       337\n",
      "          FR       0.02      0.02      0.02       734\n",
      "          GB       0.01      0.01      0.01       352\n",
      "          IT       0.01      0.01      0.01       403\n",
      "         NDF       0.45      0.45      0.45     10971\n",
      "          NL       0.01      0.01      0.01       119\n",
      "          PT       0.00      0.00      0.00        31\n",
      "          US       0.39      0.39      0.39      9612\n",
      "       other       0.07      0.07      0.07      1502\n",
      "\n",
      "    accuracy                           0.36     24528\n",
      "   macro avg       0.08      0.08      0.08     24528\n",
      "weighted avg       0.36      0.36      0.36     24528\n",
      "\n"
     ]
    },
    {
     "data": {
      "image/png": "[encoded data removed]",
      "text/plain": [
       "<Figure size 640x480 with 2 Axes>"
      ]
     },
     "metadata": {},
     "output_type": "display_data"
    }
   ],
   "source": [
    "# Accuracy\n",
    "acc_random = me.accuracy_score(y_test, yhat_random)\n",
    "print(f'Accuracy: {acc_random}')\n",
    "\n",
    "# Balanced Accuracy\n",
    "balanced_acc_random = me.balanced_accuracy_score(y_test, yhat_random)\n",
    "print(f'Accuracy: {balanced_acc_random}')\n",
    "\n",
    "# Kappa Metrics\n",
    "kappa_random = me.cohen_kappa_score(y_test, yhat_random)\n",
    "print(f'Accuracy: {kappa_random}')\n",
    "\n",
    "# Classification report\n",
    "print(me.classification_report( y_test, yhat_random ))\n",
    "\n",
    "# Confusion Matrix\n",
    "mt.plot_confusion_matrix(y_test, yhat_random, normalize=False);"
   ]
  },
  {
   "cell_type": "markdown",
   "metadata": {},
   "source": [
    "## 7.1 Neural Network MLP"
   ]
  },
  {
   "cell_type": "code",
   "execution_count": 58,
   "metadata": {},
   "outputs": [],
   "source": [
    "ohe = pp.OneHotEncoder()\n",
    "y_train_nn = ohe.fit_transform(y_train.values.reshape(-1, 1)).toarray()"
   ]
  },
  {
   "cell_type": "code",
   "execution_count": 59,
   "metadata": {},
   "outputs": [
    {
     "data": {
      "text/plain": [
       "<keras.callbacks.History at 0x168c15d1670>"
      ]
     },
     "execution_count": 59,
     "metadata": {},
     "output_type": "execute_result"
    }
   ],
   "source": [
    "# model definition\n",
    "model = ml.Sequential()\n",
    "model.add(la.Dense(256, input_dim=x_train.shape[1], activation='relu'))\n",
    "model.add(la.Dense(12, activation='softmax'))\n",
    "\n",
    "# model compile\n",
    "model.compile(loss='categorical_crossentropy', optimizer='adam', metrics=['accuracy'])\n",
    "\n",
    "# train model\n",
    "model.fit(x_train, y_train_nn, epochs=50, verbose=False)"
   ]
  },
  {
   "cell_type": "markdown",
   "metadata": {},
   "source": [
    "### 7.1.1 NN Performance"
   ]
  },
  {
   "cell_type": "code",
   "execution_count": 60,
   "metadata": {},
   "outputs": [
    {
     "name": "stdout",
     "output_type": "stream",
     "text": [
      "767/767 [==============================] - 1s 2ms/step\n",
      "Accuracy: 0.8388372472276582\n",
      "Balanced Accuracy: 0.1665973089194063\n",
      "Kappa Score: 0.7237119306757309\n"
     ]
    },
    {
     "name": "stderr",
     "output_type": "stream",
     "text": [
      "f:\\SamuelOliveiraAlvesd\\Anaconda3\\envs\\airbnb_classifier\\lib\\site-packages\\sklearn\\metrics\\_classification.py:1318: UndefinedMetricWarning: Precision and F-score are ill-defined and being set to 0.0 in labels with no predicted samples. Use `zero_division` parameter to control this behavior.\n",
      "  _warn_prf(average, modifier, msg_start, len(result))\n",
      "f:\\SamuelOliveiraAlvesd\\Anaconda3\\envs\\airbnb_classifier\\lib\\site-packages\\sklearn\\metrics\\_classification.py:1318: UndefinedMetricWarning: Precision and F-score are ill-defined and being set to 0.0 in labels with no predicted samples. Use `zero_division` parameter to control this behavior.\n",
      "  _warn_prf(average, modifier, msg_start, len(result))\n",
      "f:\\SamuelOliveiraAlvesd\\Anaconda3\\envs\\airbnb_classifier\\lib\\site-packages\\sklearn\\metrics\\_classification.py:1318: UndefinedMetricWarning: Precision and F-score are ill-defined and being set to 0.0 in labels with no predicted samples. Use `zero_division` parameter to control this behavior.\n",
      "  _warn_prf(average, modifier, msg_start, len(result))\n"
     ]
    },
    {
     "name": "stdout",
     "output_type": "stream",
     "text": [
      "              precision    recall  f1-score   support\n",
      "\n",
      "          AU       0.00      0.00      0.00        86\n",
      "          CA       0.00      0.00      0.00       213\n",
      "          DE       0.00      0.00      0.00       168\n",
      "          ES       0.00      0.00      0.00       337\n",
      "          FR       0.00      0.00      0.00       734\n",
      "          GB       0.00      0.00      0.00       352\n",
      "          IT       0.00      0.00      0.00       403\n",
      "         NDF       1.00      1.00      1.00     10971\n",
      "          NL       0.00      0.00      0.00       119\n",
      "          PT       0.00      0.00      0.00        31\n",
      "          US       0.71      1.00      0.83      9612\n",
      "       other       0.00      0.00      0.00      1502\n",
      "\n",
      "    accuracy                           0.84     24528\n",
      "   macro avg       0.14      0.17      0.15     24528\n",
      "weighted avg       0.72      0.84      0.77     24528\n",
      "\n"
     ]
    },
    {
     "data": {
      "image/png": "[encoded data removed]",
      "text/plain": [
       "<Figure size 640x480 with 2 Axes>"
      ]
     },
     "metadata": {},
     "output_type": "display_data"
    }
   ],
   "source": [
    "# prediction\n",
    "pred_nn = model.predict(x_test)\n",
    "\n",
    "# invert prediction\n",
    "yhat_nn = ohe.inverse_transform(pred_nn)\n",
    "\n",
    "# prediction prepare\n",
    "y_test_nn = y_test.to_numpy()\n",
    "yhat_nn = yhat_nn.reshape(1, -1)[0]\n",
    "\n",
    "\n",
    "# -------------------------- Metrics --------------------------\n",
    "# Accuracy\n",
    "acc_nn = me.accuracy_score(y_test_nn, yhat_nn)\n",
    "print(f'Accuracy: {acc_nn}')\n",
    "\n",
    "# Balanced Accuracy\n",
    "balanced_acc_nn = me.balanced_accuracy_score(y_test, yhat_nn)\n",
    "print(f'Balanced Accuracy: {balanced_acc_nn}')\n",
    "\n",
    "# Kappa Metrics\n",
    "kappa_nn = me.cohen_kappa_score(y_test, yhat_nn)\n",
    "print(f'Kappa Score: {kappa_nn}')\n",
    "\n",
    "# Classification report\n",
    "print(me.classification_report(y_test, yhat_nn))\n",
    "\n",
    "# Confusion Matrix\n",
    "mt.plot_confusion_matrix(y_test_nn, yhat_nn, normalize=False);"
   ]
  },
  {
   "cell_type": "markdown",
   "metadata": {},
   "source": [
    "### 7.1.2 NN Performance - Cross-Validation"
   ]
  },
  {
   "cell_type": "code",
   "execution_count": null,
   "metadata": {},
   "outputs": [],
   "source": [
    "# # generate k-fold\n",
    "# num_folds = 5\n",
    "# kfold = ms.StratifiedKFold(n_splits=num_folds, shuffle=True, random_state=42)\n",
    "\n",
    "# balanced_acc_list = []\n",
    "# kappa_acc_list = []\n",
    "\n",
    "# i = 1\n",
    "# for train_ix, val_ix in kfold.split(x_train, y_train):\n",
    "#     print(f'Fold Number: {i}/{num_folds}')\n",
    "    \n",
    "#     # get fold\n",
    "#     x_train_fold = x_train.iloc[train_ix]\n",
    "#     y_train_fold = y_train.iloc[train_ix]\n",
    "    \n",
    "#     x_val_fold = x_train.iloc[val_ix]\n",
    "#     y_val_fold = y_train.iloc[val_ix]\n",
    "    \n",
    "#     # target hot-encoding\n",
    "#     ohe = pp.OneHotEncoder()\n",
    "#     y_train_fold_nn = ohe.fit_transform(y_train_fold.values.reshape(-1, 1)).toarray()\n",
    "\n",
    "#     # model definition\n",
    "#     model = ml.Sequential()\n",
    "#     model.add(la.Dense(256, input_dim=x_train.shape[1], activation='relu'))\n",
    "#     model.add(la.Dense(12, activation='softmax'))\n",
    "\n",
    "#     # compile model\n",
    "#     model.compile(loss='categorical_crossentropy', optimizer='adam', metrics=['accuracy'])\n",
    "\n",
    "#     # training model\n",
    "#     model.fit(x_train_fold, y_train_fold_nn, epochs=100, batch_size=32, verbose=0)\n",
    "\n",
    "#     # prediction\n",
    "#     pred_nn = model.predict(x_val_fold)\n",
    "#     yhat_nn = ohe.inverse_transform(pred_nn)\n",
    "    \n",
    "#     # prepare data\n",
    "#     y_test_nn = y_val_fold.to_numpy()\n",
    "#     yhat_nn = yhat_nn.reshape(1, -1)[0]\n",
    "\n",
    "#     # metrics\n",
    "#     ## Balanced Accuracy \n",
    "#     balanced_acc_nn = me.balanced_accuracy_score(y_test_nn, yhat_nn)\n",
    "#     balanced_acc_list.append(balanced_acc_nn)\n",
    "    \n",
    "#     ## Kappa Metrics\n",
    "#     kappa_acc_nn = me.cohen_kappa_score(y_test_nn, yhat_nn)\n",
    "#     kappa_acc_list.append(kappa_acc_nn)\n",
    "    \n",
    "#     i += 1"
   ]
  },
  {
   "cell_type": "code",
   "execution_count": null,
   "metadata": {},
   "outputs": [],
   "source": [
    "# print(f'Avg Balanced Accuracy: {np.mean(balanced_acc_list)} +/- {np.std(balanced_acc_list)}')\n",
    "# print(f'Avg Kappa: {np.mean(kappa_acc_list)} +/- {np.std(kappa_acc_list)}')"
   ]
  }
 ],
 "metadata": {
  "kernelspec": {
   "display_name": "Python 3.9.13 ('airbnb_classifier')",
   "language": "python",
   "name": "python3"
  },
  "language_info": {
   "codemirror_mode": {
    "name": "ipython",
    "version": 3
   },
   "file_extension": ".py",
   "mimetype": "text/x-python",
   "name": "python",
   "nbconvert_exporter": "python",
   "pygments_lexer": "ipython3",
   "version": "3.9.13"
  },
  "orig_nbformat": 4,
  "vscode": {
   "interpreter": {
    "hash": "c4a3c3e4c57e00f165e5befd0cb88e003b71c393215ca82b4a8d39071bd45cce"
   }
  }
 },
 "nbformat": 4,
 "nbformat_minor": 2
}
